{
 "cells": [
  {
   "cell_type": "code",
   "execution_count": null,
   "id": "da990a47",
   "metadata": {},
   "outputs": [],
   "source": [
    "# preliminaries\n",
    "from __future__ import print_function\n"
   ]
  },
  {
   "cell_type": "markdown",
   "id": "ceb24c82",
   "metadata": {},
   "source": [
    "# Ex. 1: Addition"
   ]
  },
  {
   "cell_type": "code",
   "execution_count": null,
   "id": "2c3fc45e",
   "metadata": {},
   "outputs": [],
   "source": [
    "def add(a, b):\n",
    "    \"Return the sum of a and b\"\n",
    "    \"*** YOUR CODE HERE ***\"\n",
    "\n",
    "    return 0"
   ]
  },
  {
   "cell_type": "code",
   "execution_count": null,
   "id": "6a084e6c",
   "metadata": {},
   "outputs": [],
   "source": [
    "#test here"
   ]
  },
  {
   "cell_type": "markdown",
   "id": "f3b0d33d",
   "metadata": {},
   "source": [
    "# Ex. 2: Buy Lots of Fruits"
   ]
  },
  {
   "cell_type": "markdown",
   "id": "f5795cb8",
   "metadata": {},
   "source": [
    "Implement the buyLotsOfFruit(orderList) function in buyLotsOfFruit.py which takes a list of (fruit,numPounds) tuples and returns the cost of your list. If there is some fruit in the list which doesn’t appear in fruitPrices it should print an error message and return None. Please do not change the fruitPrices variable."
   ]
  },
  {
   "cell_type": "code",
   "execution_count": null,
   "id": "d43b707e",
   "metadata": {},
   "outputs": [],
   "source": [
    "fruitPrices = {'apples': 2.00, 'oranges': 1.50, 'pears': 1.75,\n",
    "               'limes': 0.75, 'strawberries': 1.00}\n",
    "\n",
    "\n",
    "def buyLotsOfFruit(orderList):\n",
    "    \"\"\"\n",
    "        orderList: List of (fruit, numPounds) tuples\n",
    "\n",
    "    Returns cost of order\n",
    "    \"\"\"\n",
    "    totalCost = 0.0\n",
    "    \"*** YOUR CODE HERE ***\"\n",
    "    return totalCost\n"
   ]
  },
  {
   "cell_type": "code",
   "execution_count": null,
   "id": "d984dcb9",
   "metadata": {},
   "outputs": [],
   "source": [
    "# test here\n",
    "# Main Method\n",
    "if __name__ == '__main__':\n",
    "    \"This code runs when you invoke the script from the command line\"\n",
    "    orderList = [('apples', 2.0), ('pears', 3.0), ('limes', 4.0)]\n",
    "    print('Cost of', orderList, 'is', buyLotsOfFruit(orderList))"
   ]
  },
  {
   "cell_type": "markdown",
   "id": "82f18ac8",
   "metadata": {},
   "source": [
    "# Ex .3: Shop"
   ]
  },
  {
   "cell_type": "markdown",
   "id": "0b9bbebb",
   "metadata": {},
   "source": [
    "Fill in the function shopSmart(orderList,fruitShops), which takes an orderList (like the kind passed in to FruitShop.getPriceOfOrder) and a list of FruitShop and returns the FruitShop where your order costs the least amount in total."
   ]
  },
  {
   "cell_type": "code",
   "execution_count": null,
   "id": "9ebe810d",
   "metadata": {},
   "outputs": [],
   "source": [
    "class FruitShop:\n",
    "\n",
    "    def __init__(self, name, fruitPrices):\n",
    "        \"\"\"\n",
    "            name: Name of the fruit shop\n",
    "\n",
    "            fruitPrices: Dictionary with keys as fruit\n",
    "            strings and prices for values e.g.\n",
    "            {'apples':2.00, 'oranges': 1.50, 'pears': 1.75}\n",
    "        \"\"\"\n",
    "        self.fruitPrices = fruitPrices\n",
    "        self.name = name\n",
    "        print('Welcome to %s fruit shop' % (name))\n",
    "\n",
    "    def getCostPerPound(self, fruit):\n",
    "        \"\"\"\n",
    "            fruit: Fruit string\n",
    "        Returns cost of 'fruit', assuming 'fruit'\n",
    "        is in our inventory or None otherwise\n",
    "        \"\"\"\n",
    "        if fruit not in self.fruitPrices:\n",
    "            return None\n",
    "        return self.fruitPrices[fruit]\n",
    "\n",
    "    def getPriceOfOrder(self, orderList):\n",
    "        \"\"\"\n",
    "            orderList: List of (fruit, numPounds) tuples\n",
    "\n",
    "        Returns cost of orderList, only including the values of\n",
    "        fruits that this fruit shop has.\n",
    "        \"\"\"\n",
    "        totalCost = 0.0\n",
    "        for fruit, numPounds in orderList:\n",
    "            costPerPound = self.getCostPerPound(fruit)\n",
    "            if costPerPound != None:\n",
    "                totalCost += numPounds * costPerPound\n",
    "        return totalCost\n",
    "\n",
    "    def getName(self):\n",
    "        return self.name\n",
    "\n",
    "    def __str__(self):\n",
    "        return \"<FruitShop: %s>\" % self.getName()\n",
    "\n",
    "    def __repr__(self):\n",
    "        return str(self)"
   ]
  },
  {
   "cell_type": "code",
   "execution_count": null,
   "id": "fc7b2ea7",
   "metadata": {},
   "outputs": [],
   "source": [
    "def shopSmart(orderList, fruitShops):\n",
    "    \"\"\"\n",
    "        orderList: List of (fruit, numPound) tuples\n",
    "        fruitShops: List of FruitShops\n",
    "    \"\"\"\n",
    "    \"*** YOUR CODE HERE ***\"\n",
    "    return None"
   ]
  },
  {
   "cell_type": "code",
   "execution_count": null,
   "id": "92b42df7",
   "metadata": {},
   "outputs": [],
   "source": [
    "if __name__ == '__main__':\n",
    "    \"This code runs when you invoke the script from the command line\"\n",
    "    orders = [('apples', 1.0), ('oranges', 3.0)]\n",
    "    dir1 = {'apples': 2.0, 'oranges': 1.0}\n",
    "    shop1 = shop.FruitShop('shop1', dir1)\n",
    "    dir2 = {'apples': 1.0, 'oranges': 5.0}\n",
    "    shop2 = shop.FruitShop('shop2', dir2)\n",
    "    shops = [shop1, shop2]\n",
    "    print(\"For orders \", orders, \", the best shop is\", shopSmart(orders, shops).getName())\n",
    "    orders = [('apples', 3.0)]\n",
    "    print(\"For orders: \", orders, \", the best shop is\", shopSmart(orders, shops).getName())"
   ]
  }
 ],
 "metadata": {
  "kernelspec": {
   "display_name": "Python 3",
   "language": "python",
   "name": "python3"
  },
  "language_info": {
   "codemirror_mode": {
    "name": "ipython",
    "version": 3
   },
   "file_extension": ".py",
   "mimetype": "text/x-python",
   "name": "python",
   "nbconvert_exporter": "python",
   "pygments_lexer": "ipython3",
   "version": "3.8.15"
  }
 },
 "nbformat": 4,
 "nbformat_minor": 5
}
